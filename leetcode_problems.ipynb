{
 "cells": [
  {
   "cell_type": "markdown",
   "metadata": {},
   "source": [
    "## Write a function that sorts a list of tuples, first by second number, then by first"
   ]
  },
  {
   "cell_type": "code",
   "execution_count": 1,
   "metadata": {},
   "outputs": [],
   "source": [
    "tuples = [(3,1), (2,2), (2,1)]"
   ]
  },
  {
   "cell_type": "code",
   "execution_count": 2,
   "metadata": {},
   "outputs": [],
   "source": [
    "def sort_tuples(tuples):\n",
    "    length = len(tuples)\n",
    "    for i in range(length):\n",
    "        for j in range(length-i-1):\n",
    "            if tuples[j][1] > tuples[j+1][1]:\n",
    "                temp=tuples[j]\n",
    "                tuples[j]=tuples[j+1]\n",
    "                tuples[j+1]=temp\n",
    "    return tuples"
   ]
  },
  {
   "cell_type": "code",
   "execution_count": 3,
   "metadata": {},
   "outputs": [],
   "source": [
    "def sort_tuples(tuples):\n",
    "    return (sorted(sorted(tuples,key=lambda x: x[0]), key=lambda y:y[1]))"
   ]
  },
  {
   "cell_type": "code",
   "execution_count": 4,
   "metadata": {},
   "outputs": [
    {
     "data": {
      "text/plain": [
       "[(2, 1), (3, 1), (2, 2)]"
      ]
     },
     "execution_count": 4,
     "metadata": {},
     "output_type": "execute_result"
    }
   ],
   "source": [
    "sort_tuples(tuples)"
   ]
  },
  {
   "cell_type": "markdown",
   "metadata": {},
   "source": [
    "## Write a SQL query to get the second highest salary from the Employee table.\n",
    "\n",
    "\n",
    "| Id | Salary |\n",
    "|---|---|\n",
    "| 1  | 100    |\n",
    "| 2  | 200    |\n",
    "| 3  | 300    |\n",
    "\n",
    "For example, given the above Employee table, the query should return 200 as the second highest salary. If there is no second highest salary, then the query should return null.\n",
    "\n",
    "\n",
    "| SecondHighestSalary |\n",
    "|---|\n",
    "| 200                 |\n"
   ]
  },
  {
   "cell_type": "markdown",
   "metadata": {},
   "source": [
    "## Given a square matrix, calculate the absolute difference between the sums of its diagonals.\n",
    "\n",
    "For example, the square matrix arr is shown below:\n",
    "\n",
    "1 2 3\n",
    "\n",
    "4 5 6\n",
    "\n",
    "9 8 9  \n",
    "\n",
    "The left-to-right diagonal = 15. The right to left diagonal = 17. Their absolute difference is 2.\n",
    "\n",
    "Function description:\n",
    "Complete the diagonalDifference function in the editor below.\n",
    "\n",
    "diagonalDifference takes the following parameter:\n",
    "int arr[n][m]: an array of integers\n",
    "\n",
    "Return:\n",
    "int: the absolute diagonal difference\n",
    "\n",
    "Input Format\n",
    "The first line contains a single integer, n , the number of rows and columns in the square matrix arr.\n",
    "Each of the next  lines describes a row, arr[i], and consists of  space-separated integers arr[i][j]."
   ]
  },
  {
   "cell_type": "code",
   "execution_count": 16,
   "metadata": {},
   "outputs": [
    {
     "data": {
      "text/plain": [
       "[[3], [11, 2, 4], [4, 5, 6], [10, 8, -12]]"
      ]
     },
     "execution_count": 16,
     "metadata": {},
     "output_type": "execute_result"
    }
   ],
   "source": [
    "arr = [[3],[11,2,4],[4,5,6],[10,8,-12]]\n",
    "arr"
   ]
  },
  {
   "cell_type": "code",
   "execution_count": 17,
   "metadata": {},
   "outputs": [
    {
     "data": {
      "text/plain": [
       "4"
      ]
     },
     "execution_count": 17,
     "metadata": {},
     "output_type": "execute_result"
    }
   ],
   "source": [
    "sum1 = arr[1][0] + arr[2][1] + arr[3][2]\n",
    "sum1"
   ]
  },
  {
   "cell_type": "code",
   "execution_count": 18,
   "metadata": {},
   "outputs": [
    {
     "data": {
      "text/plain": [
       "19"
      ]
     },
     "execution_count": 18,
     "metadata": {},
     "output_type": "execute_result"
    }
   ],
   "source": [
    "sum2 = arr[1][2] + arr[2][1] + arr[3][0]\n",
    "sum2"
   ]
  },
  {
   "cell_type": "code",
   "execution_count": 19,
   "metadata": {},
   "outputs": [
    {
     "data": {
      "text/plain": [
       "15"
      ]
     },
     "execution_count": 19,
     "metadata": {},
     "output_type": "execute_result"
    }
   ],
   "source": [
    "abs(sum1-sum2)"
   ]
  },
  {
   "cell_type": "code",
   "execution_count": 25,
   "metadata": {},
   "outputs": [
    {
     "data": {
      "text/plain": [
       "3.0"
      ]
     },
     "execution_count": 25,
     "metadata": {},
     "output_type": "execute_result"
    }
   ],
   "source": [
    "import numpy as np\n",
    "np.mean([1,3,5])"
   ]
  },
  {
   "cell_type": "markdown",
   "metadata": {},
   "source": [
    "In the Gregorian calendar, three conditions are used to identify leap years:\n",
    "\n",
    "The year can be evenly divided by 4, is a leap year, unless:\n",
    "\n",
    "The year can be evenly divided by 100, it is NOT a leap year, unless:\n",
    "\n",
    "The year is also evenly divisible by 400. Then it is a leap year.\n",
    "\n",
    "This means that in the Gregorian calendar, the years 2000 and 2400 are leap years, while 1800, 1900, 2100, 2200, 2300 and 2500 are NOT leap years. Source"
   ]
  },
  {
   "cell_type": "code",
   "execution_count": null,
   "metadata": {},
   "outputs": [],
   "source": [
    "def is_leap(year):\n",
    "    leap = False\n",
    "    \n",
    "    # Write your logic here\n",
    "    if year%4==0 :\n",
    "        leap=True\n",
    "        if year%100==0:\n",
    "            leap=False\n",
    "            if year%400==0:\n",
    "                leap=True\n",
    "    return leap\n",
    "\n",
    "year = int(input())\n",
    "print(is_leap(year))"
   ]
  },
  {
   "cell_type": "markdown",
   "metadata": {},
   "source": [
    "Given the participants' score sheet for your University Sports Day, you are required to find the runner-up score. You are given  scores. Store them in a list and find the score of the runner-up."
   ]
  }
 ],
 "metadata": {
  "kernelspec": {
   "display_name": "Python 3",
   "language": "python",
   "name": "python3"
  },
  "language_info": {
   "codemirror_mode": {
    "name": "ipython",
    "version": 3
   },
   "file_extension": ".py",
   "mimetype": "text/x-python",
   "name": "python",
   "nbconvert_exporter": "python",
   "pygments_lexer": "ipython3",
   "version": "3.7.6"
  }
 },
 "nbformat": 4,
 "nbformat_minor": 4
}
